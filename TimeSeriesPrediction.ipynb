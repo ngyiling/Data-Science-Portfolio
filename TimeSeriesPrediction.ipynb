{
  "cells": [
    {
      "cell_type": "code",
      "execution_count": 7,
      "metadata": {
        "id": "TWgiDftp6_PN"
      },
      "outputs": [],
      "source": [
        "# library packages\n",
        "import pickle\n",
        "import numpy as np\n",
        "import tensorflow as tf\n",
        "from sklearn.model_selection import train_test_split\n",
        "import matplotlib.pyplot as plt\n",
        "import pandas as pd\n",
        "from tensorflow.keras.models import Sequential\n",
        "from tensorflow.keras.layers import Flatten, Dense,Dropout, LSTM, Conv1D, Conv2D, GRU, MaxPooling2D, GlobalAveragePooling2D\n",
        "from tensorflow.keras.optimizers import Adam\n",
        "from tensorflow.keras import backend as K\n",
        "from tensorflow.keras.applications.mobilenet import MobileNet"
      ]
    },
    {
      "cell_type": "code",
      "execution_count": 2,
      "metadata": {
        "id": "QCMICGPZ6_PP"
      },
      "outputs": [],
      "source": [
        "# load files\n",
        "with open ('time_series_1.pickle','rb') as handle:\n",
        "    time_series_1 = pickle.load(handle)\n",
        "with open ('time_series_2.pickle','rb') as handle:\n",
        "    time_series_2 = pickle.load(handle)\n",
        "with open ('y.pickle','rb') as handle:\n",
        "    y = pickle.load(handle)"
      ]
    },
    {
      "cell_type": "code",
      "execution_count": 3,
      "metadata": {
        "id": "D-IaAvA8aL0n"
      },
      "outputs": [],
      "source": [
        "# convert y to dummies with an array of (4000,4) \n",
        "b = pd.get_dummies(y)\n",
        "y_dum = b.to_numpy()\n",
        "y_dum.shape\n",
        "\n",
        "# stack \"time_series_1\" and \"time_series_2\" data\n",
        "series = np.dstack([time_series_1,time_series_2])"
      ]
    },
    {
      "cell_type": "code",
      "execution_count": 4,
      "metadata": {
        "id": "DBmamr31y8E0"
      },
      "outputs": [],
      "source": [
        "# splitting training, test and valid sets\n",
        "X_train, X_other, y_train, y_other = train_test_split(series, y_dum, train_size=0.7, random_state = 657)\n",
        "X_test, X_valid, y_test, y_valid = train_test_split(X_other, y_other, train_size = 0.5, random_state=391)"
      ]
    },
    {
      "cell_type": "markdown",
      "metadata": {
        "id": "O8pZ_FzE6_PQ"
      },
      "source": [
        "1. Create a recurrent neural network in TensorFlow to predict the operating mode of a\n",
        "wind turbine based on the two time series from the sensors. Before any\n",
        "implementation, carefully consider what type of approach (sequence-to-vector,\n",
        "sequence-to-sequence, or encoder-decoder) is most sensible here and how you need to\n",
        "manipulate the data, given that you have two different time series for each observation. \n",
        "Then, make sure that you try out the different layers and elements discussed in class,\n",
        "such as SimpleRNN, LSTM and Conv1D - while a certain amount of trial and error will be\n",
        "necessary, it is recommended that you tune your network systematically. Make sure to\n",
        "record your final validation set accuracy.\n"
      ]
    },
    {
      "cell_type": "code",
      "execution_count": 6,
      "metadata": {
        "colab": {
          "base_uri": "https://localhost:8080/"
        },
        "id": "jvGqsNhVGlrl",
        "outputId": "3f984093-8c9f-4556-b04f-6adbbdf25989"
      },
      "outputs": [
        {
          "name": "stdout",
          "output_type": "stream",
          "text": [
            "Model: \"sequential\"\n",
            "_________________________________________________________________\n",
            " Layer (type)                Output Shape              Param #   \n",
            "=================================================================\n",
            " conv1d (Conv1D)             (None, None, 20)          180       \n",
            "                                                                 \n",
            " conv1d_1 (Conv1D)           (None, None, 20)          1620      \n",
            "                                                                 \n",
            " conv1d_2 (Conv1D)           (None, None, 20)          1620      \n",
            "                                                                 \n",
            " gru (GRU)                   (None, 130)               59280     \n",
            "                                                                 \n",
            " dense (Dense)               (None, 4)                 524       \n",
            "                                                                 \n",
            "=================================================================\n",
            "Total params: 63,224\n",
            "Trainable params: 63,224\n",
            "Non-trainable params: 0\n",
            "_________________________________________________________________\n"
          ]
        }
      ],
      "source": [
        "### Convolutional 1D + GRU model ###\n",
        "model_rnn = Sequential([\n",
        "    Conv1D(filters=20, kernel_size=4, strides=2, padding=\"valid\",input_shape=[None, 2]),\n",
        "    Conv1D(filters=20, kernel_size=4, strides=2, padding=\"valid\"),\n",
        "    Conv1D(filters=20, kernel_size=4, strides=2, padding=\"valid\"),\n",
        "    GRU(130),\n",
        "    Dense(4,activation='softmax')])\n",
        "\n",
        "model_rnn.summary()"
      ]
    },
    {
      "cell_type": "code",
      "execution_count": 7,
      "metadata": {
        "id": "p12jCxPj42Fr"
      },
      "outputs": [],
      "source": [
        "# Define train_plot_rnn for Convolutional 1D + GRU model \n",
        "def train_plot_rnn(model_rnn , learning_rate = 0.002, epochs = 20):\n",
        "    np.random.seed(312)\n",
        "    tf.random.set_seed(312)\n",
        "\n",
        "    model_rnn.compile(loss=\"categorical_crossentropy\",\n",
        "                  optimizer=Adam(learning_rate = learning_rate),\n",
        "                  metrics=[\"accuracy\"])\n",
        "    early_stopping_cb = tf.keras.callbacks.EarlyStopping(patience = 10, restore_best_weights=True)\n",
        "    log = model_rnn.fit(X_train, y_train, epochs=epochs,\n",
        "                    batch_size=32,\n",
        "                        validation_data=(X_valid, y_valid),\n",
        "                   callbacks = [early_stopping_cb])\n",
        "    \n",
        "    plt.plot(log.history['loss'],label = \"training loss\",color='darkgreen')\n",
        "    plt.plot(log.history['val_loss'], label = \"validation loss\",color='darkblue')\n",
        "    plt.legend()\n",
        "    ax = plt.gca()\n",
        "    ax.set_ylim([0, log.history['loss'][2]])\n",
        "    plt.show()\n",
        "    \n",
        "    return model_rnn"
      ]
    },
    {
      "cell_type": "code",
      "execution_count": 8,
      "metadata": {
        "colab": {
          "base_uri": "https://localhost:8080/",
          "height": 1000
        },
        "id": "eJEUC-Zw9M2d",
        "outputId": "c981a884-bbb1-4651-e85a-f57fec1b228c"
      },
      "outputs": [
        {
          "name": "stdout",
          "output_type": "stream",
          "text": [
            "Epoch 1/20\n",
            "88/88 [==============================] - 22s 118ms/step - loss: 1.1133 - accuracy: 0.5121 - val_loss: 0.8018 - val_accuracy: 0.7200\n",
            "Epoch 2/20\n",
            "88/88 [==============================] - 10s 114ms/step - loss: 0.6495 - accuracy: 0.7650 - val_loss: 0.4741 - val_accuracy: 0.8417\n",
            "Epoch 3/20\n",
            "88/88 [==============================] - 10s 118ms/step - loss: 0.4398 - accuracy: 0.8314 - val_loss: 0.3407 - val_accuracy: 0.8750\n",
            "Epoch 4/20\n",
            "88/88 [==============================] - 10s 119ms/step - loss: 0.3350 - accuracy: 0.8729 - val_loss: 0.3398 - val_accuracy: 0.8800\n",
            "Epoch 5/20\n",
            "88/88 [==============================] - 10s 112ms/step - loss: 0.2989 - accuracy: 0.8796 - val_loss: 0.2829 - val_accuracy: 0.8950\n",
            "Epoch 6/20\n",
            "88/88 [==============================] - 10s 114ms/step - loss: 0.2589 - accuracy: 0.8925 - val_loss: 0.2631 - val_accuracy: 0.9067\n",
            "Epoch 7/20\n",
            "88/88 [==============================] - 10s 112ms/step - loss: 0.2479 - accuracy: 0.8950 - val_loss: 0.2802 - val_accuracy: 0.8867\n",
            "Epoch 8/20\n",
            "88/88 [==============================] - 10s 114ms/step - loss: 0.2297 - accuracy: 0.9036 - val_loss: 0.2720 - val_accuracy: 0.8833\n",
            "Epoch 9/20\n",
            "88/88 [==============================] - 10s 111ms/step - loss: 0.2187 - accuracy: 0.9018 - val_loss: 0.3243 - val_accuracy: 0.8167\n",
            "Epoch 10/20\n",
            "88/88 [==============================] - 10s 111ms/step - loss: 0.2167 - accuracy: 0.9014 - val_loss: 0.2487 - val_accuracy: 0.9067\n",
            "Epoch 11/20\n",
            "88/88 [==============================] - 10s 109ms/step - loss: 0.1962 - accuracy: 0.9125 - val_loss: 0.2740 - val_accuracy: 0.8933\n",
            "Epoch 12/20\n",
            "88/88 [==============================] - 9s 106ms/step - loss: 0.1864 - accuracy: 0.9175 - val_loss: 0.3053 - val_accuracy: 0.8433\n",
            "Epoch 13/20\n",
            "88/88 [==============================] - 9s 107ms/step - loss: 0.1931 - accuracy: 0.9114 - val_loss: 0.2766 - val_accuracy: 0.8767\n",
            "Epoch 14/20\n",
            "88/88 [==============================] - 10s 113ms/step - loss: 0.1705 - accuracy: 0.9225 - val_loss: 0.2616 - val_accuracy: 0.8983\n",
            "Epoch 15/20\n",
            "88/88 [==============================] - 9s 106ms/step - loss: 0.1611 - accuracy: 0.9254 - val_loss: 0.3102 - val_accuracy: 0.8517\n",
            "Epoch 16/20\n",
            "88/88 [==============================] - 9s 108ms/step - loss: 0.1697 - accuracy: 0.9186 - val_loss: 0.3063 - val_accuracy: 0.8833\n",
            "Epoch 17/20\n",
            "88/88 [==============================] - 9s 108ms/step - loss: 0.1734 - accuracy: 0.9207 - val_loss: 0.2837 - val_accuracy: 0.8900\n",
            "Epoch 18/20\n",
            "88/88 [==============================] - 9s 107ms/step - loss: 0.1520 - accuracy: 0.9289 - val_loss: 0.2897 - val_accuracy: 0.8817\n",
            "Epoch 19/20\n",
            "88/88 [==============================] - 9s 107ms/step - loss: 0.1402 - accuracy: 0.9396 - val_loss: 0.3072 - val_accuracy: 0.8733\n",
            "Epoch 20/20\n",
            "88/88 [==============================] - 9s 107ms/step - loss: 0.1501 - accuracy: 0.9307 - val_loss: 0.3072 - val_accuracy: 0.8717\n"
          ]
        },
        {
          "data": {
            "image/png": "[encoded data removed]",
            "text/plain": [
              "<Figure size 432x288 with 1 Axes>"
            ]
          },
          "metadata": {
            "needs_background": "light"
          },
          "output_type": "display_data"
        },
        {
          "data": {
            "text/plain": [
              "<keras.engine.sequential.Sequential at 0x7fa0947486d0>"
            ]
          },
          "execution_count": 8,
          "metadata": {},
          "output_type": "execute_result"
        }
      ],
      "source": [
        "# Run train_plot_rnn of Convolutional 1D + GRU model \n",
        "train_plot_rnn(model_rnn)"
      ]
    },
    {
      "cell_type": "code",
      "execution_count": 16,
      "metadata": {
        "colab": {
          "base_uri": "https://localhost:8080/"
        },
        "id": "P_xVjev55lvi",
        "outputId": "f4d3f2b6-bf95-4047-9eed-04554c4f1db8"
      },
      "outputs": [
        {
          "name": "stdout",
          "output_type": "stream",
          "text": [
            "Test loss: 0.31\n",
            "Test accuracy: 0.89\n",
            "Valid loss: 0.25\n",
            "Valid accuracy: 0.91\n"
          ]
        }
      ],
      "source": [
        "# Evaluate Convolutional 1D + GRU model\n",
        "test_score = model_rnn.evaluate(X_test,y_test,verbose=0)\n",
        "valid_score = model_rnn.evaluate(X_valid,y_valid,verbose=0)\n",
        "\n",
        "print('Test loss:', round(test_score[0],2))\n",
        "print('Test accuracy:', round(test_score[1],2))\n",
        "print('Valid loss:', round(valid_score[0],2))\n",
        "print('Valid accuracy:', round(valid_score[1],2))"
      ]
    },
    {
      "cell_type": "code",
      "execution_count": 62,
      "metadata": {
        "colab": {
          "base_uri": "https://localhost:8080/"
        },
        "id": "DBJL5SE_wWUq",
        "outputId": "8116edd4-2346-44bb-f516-e2c7564b890e"
      },
      "outputs": [
        {
          "name": "stdout",
          "output_type": "stream",
          "text": [
            "Model: \"sequential_1\"\n",
            "_________________________________________________________________\n",
            " Layer (type)                Output Shape              Param #   \n",
            "=================================================================\n",
            " gru_1 (GRU)                 (None, None, 100)         31200     \n",
            "                                                                 \n",
            " gru_2 (GRU)                 (None, 100)               60600     \n",
            "                                                                 \n",
            " dense_1 (Dense)             (None, 50)                5050      \n",
            "                                                                 \n",
            " dense_2 (Dense)             (None, 4)                 204       \n",
            "                                                                 \n",
            "=================================================================\n",
            "Total params: 97,054\n",
            "Trainable params: 97,054\n",
            "Non-trainable params: 0\n",
            "_________________________________________________________________\n"
          ]
        }
      ],
      "source": [
        "### GRU model  ###\n",
        "model_gru = Sequential([\n",
        "    GRU(100,return_sequences=True, input_shape=[None, 2]),\n",
        "    GRU(100),\n",
        "    Dense(50, activation='relu'),\n",
        "    Dense(4,activation='softmax')\n",
        "    ])\n",
        "model_gru.summary()"
      ]
    },
    {
      "cell_type": "code",
      "execution_count": 63,
      "metadata": {
        "id": "GsyLdaSZZGv2"
      },
      "outputs": [],
      "source": [
        "# Define GRU train_plot_GRU\n",
        "def train_plot_GRU(model_gru , learning_rate = 0.001, epochs = 20):\n",
        "    np.random.seed(312)\n",
        "    tf.random.set_seed(312)\n",
        "\n",
        "    model_gru.compile(loss='categorical_crossentropy',\n",
        "                  optimizer=Adam(learning_rate = learning_rate),\n",
        "                  metrics=[\"accuracy\"])\n",
        "    early_stopping_cb = tf.keras.callbacks.EarlyStopping(patience = 10, restore_best_weights=True)\n",
        "    log = model_gru.fit(X_train, y_train, epochs=epochs,\n",
        "                    batch_size=32,\n",
        "                        validation_data=(X_valid, y_valid),\n",
        "                   callbacks = [early_stopping_cb])\n",
        "    \n",
        "    plt.plot(log.history['loss'],label = \"training loss\",color='darkgreen')\n",
        "    plt.plot(log.history['val_loss'], label = \"validation loss\",color='darkblue')\n",
        "    plt.legend()\n",
        "    ax = plt.gca()\n",
        "    ax.set_ylim([0, log.history['loss'][2]])\n",
        "    plt.show()\n",
        "    \n",
        "    return model_gru"
      ]
    },
    {
      "cell_type": "code",
      "execution_count": 64,
      "metadata": {
        "colab": {
          "base_uri": "https://localhost:8080/",
          "height": 1000
        },
        "id": "ykvpQplxQgV5",
        "outputId": "1f40b25f-ed82-4518-c0dc-8f395698c8c5"
      },
      "outputs": [
        {
          "name": "stdout",
          "output_type": "stream",
          "text": [
            "Epoch 1/20\n",
            "88/88 [==============================] - 106s 1s/step - loss: 1.3806 - accuracy: 0.2889 - val_loss: 1.3146 - val_accuracy: 0.3483\n",
            "Epoch 2/20\n",
            "88/88 [==============================] - 101s 1s/step - loss: 1.2242 - accuracy: 0.4532 - val_loss: 1.0846 - val_accuracy: 0.5450\n",
            "Epoch 3/20\n",
            "88/88 [==============================] - 101s 1s/step - loss: 1.0410 - accuracy: 0.5350 - val_loss: 0.9581 - val_accuracy: 0.6150\n",
            "Epoch 4/20\n",
            "88/88 [==============================] - 101s 1s/step - loss: 0.8846 - accuracy: 0.6211 - val_loss: 0.7973 - val_accuracy: 0.6750\n",
            "Epoch 5/20\n",
            "88/88 [==============================] - 101s 1s/step - loss: 0.7768 - accuracy: 0.6718 - val_loss: 0.6861 - val_accuracy: 0.7350\n",
            "Epoch 6/20\n",
            "88/88 [==============================] - 101s 1s/step - loss: 0.6794 - accuracy: 0.7179 - val_loss: 0.6680 - val_accuracy: 0.7417\n",
            "Epoch 7/20\n",
            "88/88 [==============================] - 102s 1s/step - loss: 0.6256 - accuracy: 0.7361 - val_loss: 0.5262 - val_accuracy: 0.8017\n",
            "Epoch 8/20\n",
            "88/88 [==============================] - 101s 1s/step - loss: 0.5309 - accuracy: 0.7786 - val_loss: 0.5337 - val_accuracy: 0.7883\n",
            "Epoch 9/20\n",
            "88/88 [==============================] - 101s 1s/step - loss: 0.4512 - accuracy: 0.8118 - val_loss: 0.4195 - val_accuracy: 0.8267\n",
            "Epoch 10/20\n",
            "88/88 [==============================] - 101s 1s/step - loss: 0.3861 - accuracy: 0.8443 - val_loss: 0.3735 - val_accuracy: 0.8600\n",
            "Epoch 11/20\n",
            "88/88 [==============================] - 101s 1s/step - loss: 0.3722 - accuracy: 0.8461 - val_loss: 0.4003 - val_accuracy: 0.8517\n",
            "Epoch 12/20\n",
            "88/88 [==============================] - 101s 1s/step - loss: 0.3238 - accuracy: 0.8718 - val_loss: 0.3228 - val_accuracy: 0.8483\n",
            "Epoch 13/20\n",
            "88/88 [==============================] - 101s 1s/step - loss: 0.3348 - accuracy: 0.8593 - val_loss: 0.3234 - val_accuracy: 0.8817\n",
            "Epoch 14/20\n",
            "88/88 [==============================] - 101s 1s/step - loss: 0.3021 - accuracy: 0.8754 - val_loss: 0.2834 - val_accuracy: 0.8850\n",
            "Epoch 15/20\n",
            "88/88 [==============================] - 102s 1s/step - loss: 0.2816 - accuracy: 0.8825 - val_loss: 0.3175 - val_accuracy: 0.8717\n",
            "Epoch 16/20\n",
            "88/88 [==============================] - 102s 1s/step - loss: 0.2636 - accuracy: 0.8900 - val_loss: 0.2728 - val_accuracy: 0.9000\n",
            "Epoch 17/20\n",
            "88/88 [==============================] - 102s 1s/step - loss: 0.2617 - accuracy: 0.8832 - val_loss: 0.3471 - val_accuracy: 0.8650\n",
            "Epoch 18/20\n",
            "88/88 [==============================] - 102s 1s/step - loss: 0.2410 - accuracy: 0.8921 - val_loss: 0.2983 - val_accuracy: 0.8867\n",
            "Epoch 19/20\n",
            "88/88 [==============================] - 101s 1s/step - loss: 0.2535 - accuracy: 0.8871 - val_loss: 0.2909 - val_accuracy: 0.8967\n",
            "Epoch 20/20\n",
            "88/88 [==============================] - 101s 1s/step - loss: 0.2371 - accuracy: 0.8975 - val_loss: 0.3354 - val_accuracy: 0.8850\n"
          ]
        },
        {
          "data": {
            "image/png": "[encoded data removed]",
            "text/plain": [
              "<Figure size 432x288 with 1 Axes>"
            ]
          },
          "metadata": {
            "needs_background": "light"
          },
          "output_type": "display_data"
        },
        {
          "data": {
            "text/plain": [
              "<keras.engine.sequential.Sequential at 0x7f9f965c9750>"
            ]
          },
          "execution_count": 64,
          "metadata": {},
          "output_type": "execute_result"
        }
      ],
      "source": [
        "# Run train_plot_GRU\n",
        "train_plot_GRU(model_gru)"
      ]
    },
    {
      "cell_type": "code",
      "execution_count": 65,
      "metadata": {
        "colab": {
          "base_uri": "https://localhost:8080/"
        },
        "id": "e4l5mhhqZlQc",
        "outputId": "1deb8a87-2828-4a4d-94ba-8743d779a645"
      },
      "outputs": [
        {
          "name": "stdout",
          "output_type": "stream",
          "text": [
            "Test loss: 0.37\n",
            "Test accuracy: 0.86\n",
            "Valid loss: 0.34\n",
            "Valid accuracy: 0.88\n"
          ]
        }
      ],
      "source": [
        "# Evaluate GRU model \n",
        "test_score = model_gru.evaluate(X_test,y_test,verbose=0)\n",
        "valid_score = model_gru.evaluate(X_valid,y_valid,verbose=0)\n",
        "\n",
        "print('Test loss:', round(test_score[0],2))\n",
        "print('Test accuracy:', round(test_score[1],2))\n",
        "print('Valid loss:', round(valid_score[0],2))\n",
        "print('Valid accuracy:', round(valid_score[1],2))"
      ]
    },
    {
      "cell_type": "code",
      "execution_count": 6,
      "metadata": {
        "colab": {
          "base_uri": "https://localhost:8080/"
        },
        "id": "6Rz2jsqQZ0jA",
        "outputId": "4bf4432b-cf3c-4f90-b956-87ab69551242"
      },
      "outputs": [
        {
          "name": "stdout",
          "output_type": "stream",
          "text": [
            "Model: \"sequential\"\n",
            "_________________________________________________________________\n",
            " Layer (type)                Output Shape              Param #   \n",
            "=================================================================\n",
            " lstm (LSTM)                 (None, None, 50)          10600     \n",
            "                                                                 \n",
            " lstm_1 (LSTM)               (None, 50)                20200     \n",
            "                                                                 \n",
            " dense (Dense)               (None, 4)                 204       \n",
            "                                                                 \n",
            "=================================================================\n",
            "Total params: 31,004\n",
            "Trainable params: 31,004\n",
            "Non-trainable params: 0\n",
            "_________________________________________________________________\n"
          ]
        }
      ],
      "source": [
        "### LSTM model ###\n",
        "model_lstm = Sequential([\n",
        "    LSTM(50,return_sequences=True, input_shape=[None, 2]),\n",
        "    LSTM(50),\n",
        "    Dense(4,activation='softmax')\n",
        "    ])\n",
        "model_lstm.summary()\n"
      ]
    },
    {
      "cell_type": "code",
      "execution_count": 7,
      "metadata": {
        "id": "xkUnHfiQdyYt"
      },
      "outputs": [],
      "source": [
        "# Define LSTM train_plot\n",
        "def train_plot_LSTM(model_lstm , learning_rate = 0.001, epochs = 20):\n",
        "    np.random.seed(312)\n",
        "    tf.random.set_seed(312)\n",
        "\n",
        "    model_lstm.compile(loss='categorical_crossentropy',\n",
        "                  optimizer=Adam(learning_rate = learning_rate),\n",
        "                  metrics=[\"accuracy\"])\n",
        "    early_stopping_cb = tf.keras.callbacks.EarlyStopping(patience = 10, restore_best_weights=True)\n",
        "    log = model_lstm.fit(X_train, y_train, epochs=epochs,\n",
        "                    batch_size=25,\n",
        "                    validation_data=(X_valid, y_valid),\n",
        "                    callbacks = [early_stopping_cb])\n",
        "    \n",
        "    plt.plot(log.history['loss'],label = \"training loss\",color='darkgreen')\n",
        "    plt.plot(log.history['val_loss'], label = \"validation loss\",color='darkblue')\n",
        "    plt.legend()\n",
        "    ax = plt.gca()\n",
        "    ax.set_ylim([0, log.history['loss'][2]])\n",
        "    plt.show()\n",
        "    \n",
        "    return model_lstm"
      ]
    },
    {
      "cell_type": "code",
      "execution_count": 8,
      "metadata": {
        "colab": {
          "base_uri": "https://localhost:8080/",
          "height": 1000
        },
        "id": "pOUI1Bz5ejzD",
        "outputId": "70d914d1-1e40-42d1-b9cd-83ff38c53482"
      },
      "outputs": [
        {
          "name": "stdout",
          "output_type": "stream",
          "text": [
            "Epoch 1/20\n",
            "112/112 [==============================] - 164s 1s/step - loss: 1.3876 - accuracy: 0.2636 - val_loss: 1.3750 - val_accuracy: 0.2417\n",
            "Epoch 2/20\n",
            "112/112 [==============================] - 157s 1s/step - loss: 1.3499 - accuracy: 0.3275 - val_loss: 1.3241 - val_accuracy: 0.3833\n",
            "Epoch 3/20\n",
            "112/112 [==============================] - 157s 1s/step - loss: 1.3231 - accuracy: 0.3625 - val_loss: 1.3127 - val_accuracy: 0.4167\n",
            "Epoch 4/20\n",
            "112/112 [==============================] - 157s 1s/step - loss: 1.2703 - accuracy: 0.4329 - val_loss: 1.2041 - val_accuracy: 0.4750\n",
            "Epoch 5/20\n",
            "112/112 [==============================] - 157s 1s/step - loss: 1.1850 - accuracy: 0.4800 - val_loss: 1.1608 - val_accuracy: 0.4767\n",
            "Epoch 6/20\n",
            "112/112 [==============================] - 157s 1s/step - loss: 1.0821 - accuracy: 0.5164 - val_loss: 1.0676 - val_accuracy: 0.5117\n",
            "Epoch 7/20\n",
            "112/112 [==============================] - 157s 1s/step - loss: 0.9885 - accuracy: 0.5771 - val_loss: 0.9306 - val_accuracy: 0.5950\n",
            "Epoch 8/20\n",
            "112/112 [==============================] - 157s 1s/step - loss: 0.9113 - accuracy: 0.6096 - val_loss: 0.8620 - val_accuracy: 0.6433\n",
            "Epoch 9/20\n",
            "112/112 [==============================] - 157s 1s/step - loss: 0.8330 - accuracy: 0.6539 - val_loss: 0.8131 - val_accuracy: 0.6883\n",
            "Epoch 10/20\n",
            "112/112 [==============================] - 157s 1s/step - loss: 0.7612 - accuracy: 0.6904 - val_loss: 0.7994 - val_accuracy: 0.6550\n",
            "Epoch 11/20\n",
            "112/112 [==============================] - 157s 1s/step - loss: 0.7680 - accuracy: 0.6821 - val_loss: 0.7116 - val_accuracy: 0.7317\n",
            "Epoch 12/20\n",
            "112/112 [==============================] - 157s 1s/step - loss: 0.6875 - accuracy: 0.7286 - val_loss: 0.7812 - val_accuracy: 0.6883\n",
            "Epoch 13/20\n",
            "112/112 [==============================] - 156s 1s/step - loss: 0.6546 - accuracy: 0.7386 - val_loss: 0.6714 - val_accuracy: 0.7367\n",
            "Epoch 14/20\n",
            "112/112 [==============================] - 157s 1s/step - loss: 0.6162 - accuracy: 0.7571 - val_loss: 0.6029 - val_accuracy: 0.7767\n",
            "Epoch 15/20\n",
            "112/112 [==============================] - 157s 1s/step - loss: 0.5791 - accuracy: 0.7679 - val_loss: 0.6058 - val_accuracy: 0.7800\n",
            "Epoch 16/20\n",
            "112/112 [==============================] - 157s 1s/step - loss: 0.5571 - accuracy: 0.7814 - val_loss: 0.5984 - val_accuracy: 0.7900\n",
            "Epoch 17/20\n",
            "112/112 [==============================] - 157s 1s/step - loss: 0.5475 - accuracy: 0.7861 - val_loss: 0.5796 - val_accuracy: 0.7617\n",
            "Epoch 18/20\n",
            "112/112 [==============================] - 157s 1s/step - loss: 0.5107 - accuracy: 0.7975 - val_loss: 0.5351 - val_accuracy: 0.7950\n",
            "Epoch 19/20\n",
            "112/112 [==============================] - 148s 1s/step - loss: 0.4955 - accuracy: 0.8079 - val_loss: 0.5263 - val_accuracy: 0.8100\n",
            "Epoch 20/20\n",
            "112/112 [==============================] - 156s 1s/step - loss: 0.4641 - accuracy: 0.8104 - val_loss: 0.5277 - val_accuracy: 0.7950\n"
          ]
        },
        {
          "data": {
            "image/png": "[encoded data removed]",
            "text/plain": [
              "<Figure size 432x288 with 1 Axes>"
            ]
          },
          "metadata": {
            "needs_background": "light"
          },
          "output_type": "display_data"
        },
        {
          "data": {
            "text/plain": [
              "<keras.engine.sequential.Sequential at 0x7fa5c91f4890>"
            ]
          },
          "execution_count": 8,
          "metadata": {},
          "output_type": "execute_result"
        }
      ],
      "source": [
        "# Run train_plot_LSTM\n",
        "train_plot_LSTM(model_lstm)"
      ]
    },
    {
      "cell_type": "code",
      "execution_count": 9,
      "metadata": {
        "colab": {
          "base_uri": "https://localhost:8080/"
        },
        "id": "JpGPg_iqeX6x",
        "outputId": "d112decb-326e-4b94-ba8d-45fd79a42b88"
      },
      "outputs": [
        {
          "name": "stdout",
          "output_type": "stream",
          "text": [
            "Test loss: 0.57\n",
            "Test accuracy: 0.78\n",
            "Valid loss: 0.53\n",
            "Valid accuracy: 0.8\n"
          ]
        }
      ],
      "source": [
        "# Evaluate on LSTM model\n",
        "test_score = model_lstm.evaluate(X_test,y_test,verbose=0)\n",
        "valid_score = model_lstm.evaluate(X_valid,y_valid,verbose=0)\n",
        "\n",
        "print('Test loss:', round(test_score[0],2))\n",
        "print('Test accuracy:', round(test_score[1],2))\n",
        "print('Valid loss:', round(valid_score[0],2))\n",
        "print('Valid accuracy:', round(valid_score[1],2))"
      ]
    },
    {
      "cell_type": "markdown",
      "metadata": {
        "id": "i6jbnEmAU-6i"
      },
      "source": [
        "The first model consists of a 1D convolutional neural network (CNN) with three convolutional layers and a layer of GRU. The model achieved an accuracy score of 0.91 and a loss of 0.25. The second model consists of two GRU layers and achived an accuracy score of 0.88 and a loss of 0.34. The third model consists of two layers of LSTM and achieved an accuracy score of 0.80 and a loss of 0.53. \n",
        "\n",
        "Overall, 1D CNN with a layer of GRU showed a better performance than the RNN models in predicting the operating mode of a wind turbine based on the two time-series from the sensor. "
      ]
    },
    {
      "cell_type": "markdown",
      "metadata": {
        "id": "ryoEHvjK6_PX"
      },
      "source": [
        "2. Another tool for analyzing time-series data is convolutional neural networks with 2D convolutional layers. For this to work, time series need to be converted into “images” (matrices of numbers). The paper “Convolutional neural network fault classification based on time series analysis for benchmark wind turbine machine” by Rahimilarki, Gao, Jin, and Zhang (published 2022 in “Renewable Energy” and available through the City-library) describes how two-dimensional CNNs can be applied to the problem at hand. Consider sections 4 and 5 that depict the process of converting one or multiple time series into “images” used within a CNN.In your own words, explain why the approach outlined here can help analyze time-series data and why it might outperform RNNs."
      ]
    },
    {
      "cell_type": "markdown",
      "metadata": {
        "id": "GMCZofXaSMVd"
      },
      "source": [
        "The main challenge of time-series data is the high volatility of the signals due to noises in the time-series data. CNN addresses these challenges by classifying data from the benchmark consisting of even the slightest anomalies and signal noises. In wind turbines, CNN can be applied in both onshore and offshore machines to tackle more dynamics and environmental disturbances. The time-series data structure is 2-Dimensional, the same as 2-Dimensional images (grey-scale), and thus CNN can convert the raw signals into 2D images. CNN fills the image matrix row by row with the time-series data. The information can then be obtained from the image by analysing the association between adjacent pixels. \n",
        "\n",
        "Moreover, CNN is computationally cheaper than RNN as CNN models learn patterns by batch, allowing parallelised training. In contrast, RNN models train data in sequence, which requires completing the previous computations before proceeding to the next. Another advantage of CNN is that it considers the \"spatial\" structure of the data, unlike RNN, which takes information before the timestep of the prediction."
      ]
    },
    {
      "cell_type": "markdown",
      "metadata": {
        "id": "a_Jku4qW6_PY"
      },
      "source": [
        "3.  Convert the data for use with a CNN. In particular, following the approach outlined in\n",
        "Scenario 2 (section 5.3 of the paper) and summarized in Figure 18, convert the two time\n",
        "series corresponding to one wind turbine run into a single (100,100,1) array (i.e., a grayscale image)."
      ]
    },
    {
      "cell_type": "code",
      "execution_count": 5,
      "metadata": {
        "colab": {
          "base_uri": "https://localhost:8080/"
        },
        "id": "tCRKSSJO6_PY",
        "outputId": "d83612a5-b982-49d0-a87a-4d1227c15e44"
      },
      "outputs": [
        {
          "name": "stdout",
          "output_type": "stream",
          "text": [
            "x_train shape: (2800, 100, 100, 1)\n",
            "y_train: (2800, 4)\n"
          ]
        }
      ],
      "source": [
        "## convert time-series to grey-scale image\n",
        "num_classes = 4\n",
        "img_rows, img_cols, img_channels = 100, 100, 1 # input image dimensions\n",
        "\n",
        "# Load and convert data\n",
        "x_train = X_train.astype('float32')\n",
        "x_test = X_test.astype('float32')\n",
        "x_valid = X_valid.astype('float32')\n",
        "\n",
        "# Depending on the implementation, the underlying libraries might want the image \n",
        "# dimensions in different orders, check for it and reshape\n",
        "if K.image_data_format() == 'channels_first':\n",
        "    x_train = x_train.reshape(x_train.shape[0], img_channels, img_rows, img_cols)\n",
        "    x_test = x_test.reshape(x_test.shape[0], img_channels, img_rows, img_cols)\n",
        "    x_valid = x_valid.reshape(x_valid.shape[0], img_channels, img_rows, img_cols)\n",
        "    input_shape = (img_channels, img_rows, img_cols)\n",
        "else:\n",
        "    x_train = x_train.reshape(x_train.shape[0], img_rows, img_cols, img_channels)\n",
        "    x_test = x_test.reshape(x_test.shape[0], img_rows, img_cols, img_channels)\n",
        "    x_valid = x_valid.reshape(x_valid.shape[0], img_rows, img_cols, img_channels)\n",
        "    input_shape = (img_rows, img_cols, img_channels)\n",
        "\n",
        "print('x_train shape:', x_train.shape)\n",
        "print('y_train:', y_train.shape)\n"
      ]
    },
    {
      "cell_type": "code",
      "execution_count": 6,
      "metadata": {
        "colab": {
          "base_uri": "https://localhost:8080/",
          "height": 660
        },
        "id": "OxNGWWCFMtYM",
        "outputId": "3e2de7eb-b4fe-4ae6-8e13-ff4addef431d"
      },
      "outputs": [
        {
          "data": {
            "image/png": "[encoded data removed]",
            "text/plain": [
              "<Figure size 360x360 with 1 Axes>"
            ]
          },
          "metadata": {
            "needs_background": "light"
          },
          "output_type": "display_data"
        }
      ],
      "source": [
        "plt.figure(figsize=(5, 5))\n",
        "plt.imshow(x_train[0].astype(int),cmap=\"Greys_r\")\n",
        "plt.show()"
      ]
    },
    {
      "cell_type": "markdown",
      "metadata": {
        "id": "FsJ83vJb6_PY"
      },
      "source": [
        "4. In TensorFlow, replicate the CNN with two convolutional layers displayed in Figure 12\n",
        "and train it on your data. Make sure to record your final validation set accuracy."
      ]
    },
    {
      "cell_type": "code",
      "execution_count": 12,
      "metadata": {
        "colab": {
          "base_uri": "https://localhost:8080/"
        },
        "id": "jO0JKqKWdvDU",
        "outputId": "b901163e-5d1e-4dae-9cac-8a3018ac621d"
      },
      "outputs": [
        {
          "name": "stdout",
          "output_type": "stream",
          "text": [
            "Model: \"sequential_1\"\n",
            "_________________________________________________________________\n",
            " Layer (type)                Output Shape              Param #   \n",
            "=================================================================\n",
            " conv2d (Conv2D)             (None, 50, 50, 32)        320       \n",
            "                                                                 \n",
            " conv2d_1 (Conv2D)           (None, 25, 25, 32)        9248      \n",
            "                                                                 \n",
            " dropout (Dropout)           (None, 25, 25, 32)        0         \n",
            "                                                                 \n",
            " conv2d_2 (Conv2D)           (None, 13, 13, 16)        4624      \n",
            "                                                                 \n",
            " max_pooling2d (MaxPooling2D  (None, 4, 4, 16)         0         \n",
            " )                                                               \n",
            "                                                                 \n",
            " flatten (Flatten)           (None, 256)               0         \n",
            "                                                                 \n",
            " dense_1 (Dense)             (None, 4)                 1028      \n",
            "                                                                 \n",
            "=================================================================\n",
            "Total params: 15,220\n",
            "Trainable params: 15,220\n",
            "Non-trainable params: 0\n",
            "_________________________________________________________________\n"
          ]
        }
      ],
      "source": [
        "### CNN model according to Figure 12 of the literature\n",
        "model_cnn1 = Sequential([\n",
        "    Conv2D(32, kernel_size=(3, 3),strides=(2,2),padding='same',input_shape=input_shape),\n",
        "    Conv2D(32, kernel_size=(3, 3),strides=(2,2),padding='same'),\n",
        "    Dropout(0.2),\n",
        "    Conv2D(16, kernel_size=(3, 3),strides=(2,2),padding='same',activation='relu'),\n",
        "    MaxPooling2D(pool_size=(3, 3)),\n",
        "    Flatten(),\n",
        "    Dense(num_classes, activation='softmax')\n",
        "    ])\n",
        "model_cnn1.summary()"
      ]
    },
    {
      "cell_type": "code",
      "execution_count": 13,
      "metadata": {
        "id": "apFxLJFL_P20"
      },
      "outputs": [],
      "source": [
        "# CNN model (according to Figure 12) train_plot\n",
        "def train_plot_cnn1(model_cnn1 , learning_rate = 0.002, epochs = 20):\n",
        "    np.random.seed(312)\n",
        "    tf.random.set_seed(312)\n",
        "\n",
        "    model_cnn1.compile(loss='categorical_crossentropy',\n",
        "              optimizer=tf.keras.optimizers.Adam(learning_rate=0.001),\n",
        "              metrics=['accuracy'])\n",
        "    early_stopping_cb = tf.keras.callbacks.EarlyStopping(patience = 10, restore_best_weights=True)\n",
        "    log = model_cnn1.fit(x_train, y_train, epochs=epochs,\n",
        "                    batch_size=32,\n",
        "                    validation_data=(x_valid, y_valid),\n",
        "                   callbacks = [early_stopping_cb])\n",
        "    \n",
        "    plt.plot(log.history['loss'],label = \"training loss\",color='darkgreen')\n",
        "    plt.plot(log.history['val_loss'], label = \"validation loss\",color='darkblue')\n",
        "    plt.legend()\n",
        "    ax = plt.gca()\n",
        "    ax.set_ylim([0, log.history['loss'][2]])\n",
        "    plt.show()\n",
        "    \n",
        "    return model_cnn1"
      ]
    },
    {
      "cell_type": "code",
      "execution_count": 14,
      "metadata": {
        "colab": {
          "base_uri": "https://localhost:8080/",
          "height": 1000
        },
        "id": "JDhUEDfGd8Wn",
        "outputId": "bcdb39a2-88a7-442a-85c6-1ae82f7c4549"
      },
      "outputs": [
        {
          "name": "stdout",
          "output_type": "stream",
          "text": [
            "Epoch 1/20\n",
            "88/88 [==============================] - 8s 17ms/step - loss: 7.1261 - accuracy: 0.3436 - val_loss: 0.8097 - val_accuracy: 0.6617\n",
            "Epoch 2/20\n",
            "88/88 [==============================] - 1s 13ms/step - loss: 1.4185 - accuracy: 0.5996 - val_loss: 0.4013 - val_accuracy: 0.8233\n",
            "Epoch 3/20\n",
            "88/88 [==============================] - 1s 13ms/step - loss: 0.9303 - accuracy: 0.7207 - val_loss: 0.2987 - val_accuracy: 0.9150\n",
            "Epoch 4/20\n",
            "88/88 [==============================] - 1s 14ms/step - loss: 0.7188 - accuracy: 0.7914 - val_loss: 0.2560 - val_accuracy: 0.8817\n",
            "Epoch 5/20\n",
            "88/88 [==============================] - 1s 15ms/step - loss: 0.6282 - accuracy: 0.8082 - val_loss: 0.2533 - val_accuracy: 0.8933\n",
            "Epoch 6/20\n",
            "88/88 [==============================] - 1s 12ms/step - loss: 0.5392 - accuracy: 0.8271 - val_loss: 0.2461 - val_accuracy: 0.9033\n",
            "Epoch 7/20\n",
            "88/88 [==============================] - 1s 13ms/step - loss: 0.4946 - accuracy: 0.8361 - val_loss: 0.4213 - val_accuracy: 0.9067\n",
            "Epoch 8/20\n",
            "88/88 [==============================] - 1s 12ms/step - loss: 0.4909 - accuracy: 0.8386 - val_loss: 0.2253 - val_accuracy: 0.9117\n",
            "Epoch 9/20\n",
            "88/88 [==============================] - 1s 12ms/step - loss: 0.4095 - accuracy: 0.8546 - val_loss: 0.2229 - val_accuracy: 0.9150\n",
            "Epoch 10/20\n",
            "88/88 [==============================] - 1s 13ms/step - loss: 0.3676 - accuracy: 0.8589 - val_loss: 0.2488 - val_accuracy: 0.9083\n",
            "Epoch 11/20\n",
            "88/88 [==============================] - 1s 13ms/step - loss: 0.3740 - accuracy: 0.8550 - val_loss: 0.2474 - val_accuracy: 0.9183\n",
            "Epoch 12/20\n",
            "88/88 [==============================] - 1s 14ms/step - loss: 0.3415 - accuracy: 0.8625 - val_loss: 0.2373 - val_accuracy: 0.8983\n",
            "Epoch 13/20\n",
            "88/88 [==============================] - 1s 16ms/step - loss: 0.3376 - accuracy: 0.8532 - val_loss: 0.2310 - val_accuracy: 0.9000\n",
            "Epoch 14/20\n",
            "88/88 [==============================] - 1s 13ms/step - loss: 0.3251 - accuracy: 0.8621 - val_loss: 0.2247 - val_accuracy: 0.9083\n",
            "Epoch 15/20\n",
            "88/88 [==============================] - 1s 12ms/step - loss: 0.3128 - accuracy: 0.8679 - val_loss: 0.2656 - val_accuracy: 0.8550\n",
            "Epoch 16/20\n",
            "88/88 [==============================] - 1s 13ms/step - loss: 0.3083 - accuracy: 0.8707 - val_loss: 0.2186 - val_accuracy: 0.9217\n",
            "Epoch 17/20\n",
            "88/88 [==============================] - 1s 13ms/step - loss: 0.2838 - accuracy: 0.8782 - val_loss: 0.2119 - val_accuracy: 0.9217\n",
            "Epoch 18/20\n",
            "88/88 [==============================] - 1s 13ms/step - loss: 0.2864 - accuracy: 0.8811 - val_loss: 0.2092 - val_accuracy: 0.9217\n",
            "Epoch 19/20\n",
            "88/88 [==============================] - 1s 13ms/step - loss: 0.2809 - accuracy: 0.8729 - val_loss: 0.2277 - val_accuracy: 0.9233\n",
            "Epoch 20/20\n",
            "88/88 [==============================] - 1s 12ms/step - loss: 0.2759 - accuracy: 0.8825 - val_loss: 0.2234 - val_accuracy: 0.9183\n"
          ]
        },
        {
          "data": {
            "image/png": "[encoded data removed]",
            "text/plain": [
              "<Figure size 432x288 with 1 Axes>"
            ]
          },
          "metadata": {
            "needs_background": "light"
          },
          "output_type": "display_data"
        },
        {
          "data": {
            "text/plain": [
              "<keras.engine.sequential.Sequential at 0x7fa54f7cb510>"
            ]
          },
          "execution_count": 14,
          "metadata": {},
          "output_type": "execute_result"
        }
      ],
      "source": [
        "# Run train_plot_cnn1\n",
        "train_plot_cnn1(model_cnn1)"
      ]
    },
    {
      "cell_type": "code",
      "execution_count": 15,
      "metadata": {
        "colab": {
          "base_uri": "https://localhost:8080/"
        },
        "id": "rqvu4AenAD5d",
        "outputId": "d26ffad7-bbf1-4f7f-fd24-eda621ec52dd"
      },
      "outputs": [
        {
          "name": "stdout",
          "output_type": "stream",
          "text": [
            "Test loss: 0.23\n",
            "Test accuracy: 0.9\n",
            "Valid loss: 0.22\n",
            "Valid accuracy: 0.92\n"
          ]
        }
      ],
      "source": [
        "# Evaluate CNN model \n",
        "test_score = model_cnn1.evaluate(x_test,y_test,verbose=0)\n",
        "valid_score = model_cnn1.evaluate(x_valid,y_valid,verbose=0)\n",
        "\n",
        "print('Test loss:', round(test_score[0],2))\n",
        "print('Test accuracy:', round(test_score[1],2))\n",
        "print('Valid loss:', round(valid_score[0],2))\n",
        "print('Valid accuracy:', round(valid_score[1],2))"
      ]
    },
    {
      "cell_type": "markdown",
      "metadata": {
        "id": "8IxMDDhp6_PZ"
      },
      "source": [
        "5. Can you do better by adjusting the CNN? Be creative in your design choices (you might\n",
        "also consider pre-trained CNN architectures) and record your final validation set\n",
        "accuracy."
      ]
    },
    {
      "cell_type": "code",
      "execution_count": 16,
      "metadata": {
        "colab": {
          "base_uri": "https://localhost:8080/"
        },
        "id": "gq5wtX_16_PZ",
        "outputId": "c3a8c05f-7e2f-423a-e2ca-2d76da9587cd"
      },
      "outputs": [
        {
          "name": "stdout",
          "output_type": "stream",
          "text": [
            "Model: \"sequential_2\"\n",
            "_________________________________________________________________\n",
            " Layer (type)                Output Shape              Param #   \n",
            "=================================================================\n",
            " conv2d_3 (Conv2D)           (None, 50, 50, 128)       1280      \n",
            "                                                                 \n",
            " conv2d_4 (Conv2D)           (None, 25, 25, 64)        73792     \n",
            "                                                                 \n",
            " dropout_1 (Dropout)         (None, 25, 25, 64)        0         \n",
            "                                                                 \n",
            " conv2d_5 (Conv2D)           (None, 13, 13, 32)        18464     \n",
            "                                                                 \n",
            " conv2d_6 (Conv2D)           (None, 7, 7, 16)          4624      \n",
            "                                                                 \n",
            " max_pooling2d_1 (MaxPooling  (None, 2, 2, 16)         0         \n",
            " 2D)                                                             \n",
            "                                                                 \n",
            " flatten_1 (Flatten)         (None, 64)                0         \n",
            "                                                                 \n",
            " dense_2 (Dense)             (None, 4)                 260       \n",
            "                                                                 \n",
            "=================================================================\n",
            "Total params: 98,420\n",
            "Trainable params: 98,420\n",
            "Non-trainable params: 0\n",
            "_________________________________________________________________\n"
          ]
        }
      ],
      "source": [
        "### CNN model consisting of 4 convolutional layers and a dense layer \n",
        "num_classes = 4\n",
        "model_cnn2 = Sequential([\n",
        "    Conv2D(128, kernel_size=(3, 3),strides=(2,2),padding='same',input_shape=input_shape),\n",
        "    Conv2D(64, kernel_size=(3, 3),strides=(2,2),padding='same'),\n",
        "    Dropout(0.2),\n",
        "    Conv2D(32, kernel_size=(3, 3),strides=(2,2),padding='same',activation='relu'),\n",
        "    Conv2D(16, kernel_size=(3, 3),strides=(2,2),padding='same',activation='relu'),\n",
        "    MaxPooling2D(pool_size=(3, 3)),\n",
        "    Flatten(),\n",
        "    Dense(num_classes, activation='softmax')\n",
        "    ])\n",
        "model_cnn2.summary()"
      ]
    },
    {
      "cell_type": "code",
      "execution_count": 17,
      "metadata": {
        "id": "UlbHrB5s6_PZ"
      },
      "outputs": [],
      "source": [
        "# train_plot of CNN model with 4 convolutional layer\n",
        "def train_plot_cnn2(model_cnn2 , learning_rate = 0.002, epochs = 20):\n",
        "    np.random.seed(312)\n",
        "    tf.random.set_seed(312)\n",
        "\n",
        "    model_cnn2.compile(loss='categorical_crossentropy',\n",
        "              optimizer=tf.keras.optimizers.Adam(learning_rate=learning_rate),\n",
        "              metrics=['accuracy'])\n",
        "    early_stopping_cb = tf.keras.callbacks.EarlyStopping(patience = 10, restore_best_weights=True)  \n",
        "    log = model_cnn2.fit(x_train, y_train, epochs=epochs,\n",
        "                    batch_size=20,\n",
        "                    validation_data=(x_valid, y_valid),\n",
        "                    callbacks = [early_stopping_cb])\n",
        "    \n",
        "    plt.plot(log.history['loss'],label = \"training loss\",color='darkgreen')\n",
        "    plt.plot(log.history['val_loss'],label = \"validation loss\",color='darkblue')\n",
        "    plt.legend()\n",
        "    ax = plt.gca()\n",
        "    ax.set_ylim([0, log.history['loss'][2]])\n",
        "    plt.show()\n",
        "    \n",
        "    return model_cnn2"
      ]
    },
    {
      "cell_type": "code",
      "execution_count": 18,
      "metadata": {
        "colab": {
          "base_uri": "https://localhost:8080/",
          "height": 1000
        },
        "id": "Ls_jsEiHVXkl",
        "outputId": "2e899f86-5a14-4b2c-caea-7739cb1802e1"
      },
      "outputs": [
        {
          "name": "stdout",
          "output_type": "stream",
          "text": [
            "Epoch 1/20\n",
            "140/140 [==============================] - 4s 23ms/step - loss: 4.3324 - accuracy: 0.4350 - val_loss: 0.4673 - val_accuracy: 0.8783\n",
            "Epoch 2/20\n",
            "140/140 [==============================] - 3s 22ms/step - loss: 0.4612 - accuracy: 0.8300 - val_loss: 0.2351 - val_accuracy: 0.9200\n",
            "Epoch 3/20\n",
            "140/140 [==============================] - 3s 22ms/step - loss: 0.3863 - accuracy: 0.8529 - val_loss: 0.2488 - val_accuracy: 0.9217\n",
            "Epoch 4/20\n",
            "140/140 [==============================] - 3s 22ms/step - loss: 0.3625 - accuracy: 0.8664 - val_loss: 0.2381 - val_accuracy: 0.9067\n",
            "Epoch 5/20\n",
            "140/140 [==============================] - 3s 22ms/step - loss: 0.3703 - accuracy: 0.8596 - val_loss: 0.2332 - val_accuracy: 0.9167\n",
            "Epoch 6/20\n",
            "140/140 [==============================] - 3s 22ms/step - loss: 0.3215 - accuracy: 0.8661 - val_loss: 0.3115 - val_accuracy: 0.8117\n",
            "Epoch 7/20\n",
            "140/140 [==============================] - 3s 22ms/step - loss: 0.3262 - accuracy: 0.8700 - val_loss: 0.2520 - val_accuracy: 0.9183\n",
            "Epoch 8/20\n",
            "140/140 [==============================] - 3s 22ms/step - loss: 0.3032 - accuracy: 0.8729 - val_loss: 0.2226 - val_accuracy: 0.9067\n",
            "Epoch 9/20\n",
            "140/140 [==============================] - 3s 22ms/step - loss: 0.2892 - accuracy: 0.8732 - val_loss: 0.2302 - val_accuracy: 0.8833\n",
            "Epoch 10/20\n",
            "140/140 [==============================] - 3s 22ms/step - loss: 0.2942 - accuracy: 0.8739 - val_loss: 0.2191 - val_accuracy: 0.9200\n",
            "Epoch 11/20\n",
            "140/140 [==============================] - 3s 22ms/step - loss: 0.3001 - accuracy: 0.8693 - val_loss: 0.2245 - val_accuracy: 0.9183\n",
            "Epoch 12/20\n",
            "140/140 [==============================] - 3s 21ms/step - loss: 0.2786 - accuracy: 0.8721 - val_loss: 0.2524 - val_accuracy: 0.8617\n",
            "Epoch 13/20\n",
            "140/140 [==============================] - 3s 22ms/step - loss: 0.2919 - accuracy: 0.8729 - val_loss: 0.2453 - val_accuracy: 0.9200\n",
            "Epoch 14/20\n",
            "140/140 [==============================] - 3s 22ms/step - loss: 0.3368 - accuracy: 0.8636 - val_loss: 0.2344 - val_accuracy: 0.9083\n",
            "Epoch 15/20\n",
            "140/140 [==============================] - 3s 22ms/step - loss: 0.3151 - accuracy: 0.8693 - val_loss: 0.2494 - val_accuracy: 0.9117\n",
            "Epoch 16/20\n",
            "140/140 [==============================] - 3s 22ms/step - loss: 0.2758 - accuracy: 0.8871 - val_loss: 0.2225 - val_accuracy: 0.9200\n",
            "Epoch 17/20\n",
            "140/140 [==============================] - 3s 22ms/step - loss: 0.2528 - accuracy: 0.8871 - val_loss: 0.2261 - val_accuracy: 0.9150\n",
            "Epoch 18/20\n",
            "140/140 [==============================] - 3s 22ms/step - loss: 0.2539 - accuracy: 0.8875 - val_loss: 0.2156 - val_accuracy: 0.9133\n",
            "Epoch 19/20\n",
            "140/140 [==============================] - 3s 22ms/step - loss: 0.2514 - accuracy: 0.8907 - val_loss: 0.2178 - val_accuracy: 0.9233\n",
            "Epoch 20/20\n",
            "140/140 [==============================] - 3s 22ms/step - loss: 0.2629 - accuracy: 0.8829 - val_loss: 0.2271 - val_accuracy: 0.9133\n"
          ]
        },
        {
          "data": {
            "image/png": "[encoded data removed]",
            "text/plain": [
              "<Figure size 432x288 with 1 Axes>"
            ]
          },
          "metadata": {
            "needs_background": "light"
          },
          "output_type": "display_data"
        },
        {
          "data": {
            "text/plain": [
              "<keras.engine.sequential.Sequential at 0x7fa54f2fc910>"
            ]
          },
          "execution_count": 18,
          "metadata": {},
          "output_type": "execute_result"
        }
      ],
      "source": [
        "# Run train_plot_cnn2\n",
        "train_plot_cnn2(model_cnn2)"
      ]
    },
    {
      "cell_type": "code",
      "execution_count": 19,
      "metadata": {
        "colab": {
          "base_uri": "https://localhost:8080/"
        },
        "id": "FIauvc0nVbZI",
        "outputId": "94b372cd-85f6-4905-b044-3983a140f460"
      },
      "outputs": [
        {
          "name": "stdout",
          "output_type": "stream",
          "text": [
            "Test loss: 0.25\n",
            "Test accuracy: 0.89\n",
            "Valid loss: 0.23\n",
            "Valid accuracy: 0.91\n"
          ]
        }
      ],
      "source": [
        "# Evaluation of model_cnn2\n",
        "test_score = model_cnn2.evaluate(x_test,y_test,verbose=0)\n",
        "valid_score = model_cnn2.evaluate(x_valid,y_valid,verbose=0)\n",
        "\n",
        "print('Test loss:', round(test_score[0],2))\n",
        "print('Test accuracy:', round(test_score[1],2))\n",
        "print('Valid loss:', round(valid_score[0],2))\n",
        "print('Valid accuracy:', round(valid_score[1],2))"
      ]
    },
    {
      "cell_type": "code",
      "execution_count": 20,
      "metadata": {
        "colab": {
          "base_uri": "https://localhost:8080/"
        },
        "id": "7zYYgBOwN_Xn",
        "outputId": "739b39b6-4639-4c84-8dda-493d83e1f59d"
      },
      "outputs": [
        {
          "name": "stdout",
          "output_type": "stream",
          "text": [
            "WARNING:tensorflow:`input_shape` is undefined or non-square, or `rows` is not in [128, 160, 192, 224]. Weights for input shape (224, 224) will be loaded as the default.\n",
            "Downloading data from https://storage.googleapis.com/tensorflow/keras-applications/mobilenet/mobilenet_1_0_224_tf_no_top.h5\n",
            "17227776/17225924 [==============================] - 0s 0us/step\n",
            "17235968/17225924 [==============================] - 0s 0us/step\n",
            "Model: \"sequential_3\"\n",
            "_________________________________________________________________\n",
            " Layer (type)                Output Shape              Param #   \n",
            "=================================================================\n",
            " conv2d_7 (Conv2D)           (None, 100, 100, 3)       30        \n",
            "                                                                 \n",
            " mobilenet_1.00_224 (Functio  (None, 3, 3, 1024)       3228864   \n",
            " nal)                                                            \n",
            "                                                                 \n",
            " global_average_pooling2d (G  (None, 1024)             0         \n",
            " lobalAveragePooling2D)                                          \n",
            "                                                                 \n",
            " dense_3 (Dense)             (None, 64)                65600     \n",
            "                                                                 \n",
            " dense_4 (Dense)             (None, 4)                 260       \n",
            "                                                                 \n",
            "=================================================================\n",
            "Total params: 3,294,754\n",
            "Trainable params: 65,890\n",
            "Non-trainable params: 3,228,864\n",
            "_________________________________________________________________\n"
          ]
        }
      ],
      "source": [
        "### Pre-trained CNN model: MobileNet ###\n",
        "mobilenet = MobileNet(weights='imagenet', include_top=False, input_shape = (100,100,3))\n",
        "mobilenet.trainable = False\n",
        "# Freeze layers in the base model except the last two\n",
        "for layer in mobilenet.layers[:60]:\n",
        "    layer.trainable = True\n",
        "\n",
        "model_mobilenet = Sequential([\n",
        "    Conv2D(3, kernel_size=(3, 3),strides=(1,1),padding='same',input_shape=input_shape),\n",
        "    mobilenet,\n",
        "    GlobalAveragePooling2D(),\n",
        "    Dense(64, activation='relu'),\n",
        "    Dense(num_classes, activation='softmax')])\n",
        "\n",
        "model_mobilenet.summary()\n"
      ]
    },
    {
      "cell_type": "code",
      "execution_count": 21,
      "metadata": {
        "id": "45UkP8H9qp1G"
      },
      "outputs": [],
      "source": [
        "def train_plot_mobilenet(model_mobilenet , learning_rate = 0.0001, epochs = 20):\n",
        "    np.random.seed(312)\n",
        "    tf.random.set_seed(312)\n",
        "\n",
        "    model_mobilenet.compile(loss='categorical_crossentropy',\n",
        "              optimizer=tf.keras.optimizers.Adam(learning_rate=learning_rate),\n",
        "              metrics=['accuracy'])\n",
        "    early_stopping_cb = tf.keras.callbacks.EarlyStopping(patience = 10, restore_best_weights=True)\n",
        "    log = model_mobilenet.fit(x_train, y_train, epochs=epochs,\n",
        "                    batch_size=20,\n",
        "                    validation_data=(x_valid, y_valid),\n",
        "                    callbacks = [early_stopping_cb])\n",
        "    \n",
        "    plt.plot(log.history['loss'],label = \"training loss\",color='darkgreen')\n",
        "    plt.plot(log.history['val_loss'],label = \"validation loss\",color='darkblue')\n",
        "    plt.legend()\n",
        "    ax = plt.gca()\n",
        "    ax.set_ylim([0, log.history['loss'][2]])\n",
        "    plt.show()\n",
        "    \n",
        "    return model_mobilenet"
      ]
    },
    {
      "cell_type": "code",
      "execution_count": 22,
      "metadata": {
        "colab": {
          "base_uri": "https://localhost:8080/",
          "height": 1000
        },
        "id": "OT9oGZiqqrZv",
        "outputId": "8b28c3f0-cf32-4bb5-a302-424cb7e3634e"
      },
      "outputs": [
        {
          "name": "stdout",
          "output_type": "stream",
          "text": [
            "Epoch 1/20\n",
            "140/140 [==============================] - 10s 54ms/step - loss: 1.2766 - accuracy: 0.4500 - val_loss: 1.9737 - val_accuracy: 0.2650\n",
            "Epoch 2/20\n",
            "140/140 [==============================] - 7s 49ms/step - loss: 0.8031 - accuracy: 0.6821 - val_loss: 0.9691 - val_accuracy: 0.6300\n",
            "Epoch 3/20\n",
            "140/140 [==============================] - 7s 49ms/step - loss: 0.6090 - accuracy: 0.7800 - val_loss: 0.5510 - val_accuracy: 0.8250\n",
            "Epoch 4/20\n",
            "140/140 [==============================] - 7s 48ms/step - loss: 0.5000 - accuracy: 0.8189 - val_loss: 0.4338 - val_accuracy: 0.8650\n",
            "Epoch 5/20\n",
            "140/140 [==============================] - 7s 49ms/step - loss: 0.4361 - accuracy: 0.8454 - val_loss: 0.3894 - val_accuracy: 0.8783\n",
            "Epoch 6/20\n",
            "140/140 [==============================] - 7s 47ms/step - loss: 0.3879 - accuracy: 0.8679 - val_loss: 0.3712 - val_accuracy: 0.8683\n",
            "Epoch 7/20\n",
            "140/140 [==============================] - 7s 47ms/step - loss: 0.3615 - accuracy: 0.8679 - val_loss: 0.3304 - val_accuracy: 0.8850\n",
            "Epoch 8/20\n",
            "140/140 [==============================] - 7s 48ms/step - loss: 0.3317 - accuracy: 0.8793 - val_loss: 0.3163 - val_accuracy: 0.8867\n",
            "Epoch 9/20\n",
            "140/140 [==============================] - 7s 48ms/step - loss: 0.3063 - accuracy: 0.8864 - val_loss: 0.3339 - val_accuracy: 0.8617\n",
            "Epoch 10/20\n",
            "140/140 [==============================] - 7s 47ms/step - loss: 0.2855 - accuracy: 0.8889 - val_loss: 0.3023 - val_accuracy: 0.8933\n",
            "Epoch 11/20\n",
            "140/140 [==============================] - 7s 47ms/step - loss: 0.2688 - accuracy: 0.9011 - val_loss: 0.2952 - val_accuracy: 0.8917\n",
            "Epoch 12/20\n",
            "140/140 [==============================] - 7s 48ms/step - loss: 0.2540 - accuracy: 0.9029 - val_loss: 0.2881 - val_accuracy: 0.8833\n",
            "Epoch 13/20\n",
            "140/140 [==============================] - 7s 48ms/step - loss: 0.2552 - accuracy: 0.8996 - val_loss: 0.2872 - val_accuracy: 0.8833\n",
            "Epoch 14/20\n",
            "140/140 [==============================] - 7s 47ms/step - loss: 0.2417 - accuracy: 0.9100 - val_loss: 0.2750 - val_accuracy: 0.8967\n",
            "Epoch 15/20\n",
            "140/140 [==============================] - 7s 48ms/step - loss: 0.2253 - accuracy: 0.9139 - val_loss: 0.3040 - val_accuracy: 0.8483\n",
            "Epoch 16/20\n",
            "140/140 [==============================] - 7s 49ms/step - loss: 0.2255 - accuracy: 0.9104 - val_loss: 0.2713 - val_accuracy: 0.8850\n",
            "Epoch 17/20\n",
            "140/140 [==============================] - 7s 49ms/step - loss: 0.2083 - accuracy: 0.9164 - val_loss: 0.2672 - val_accuracy: 0.8917\n",
            "Epoch 18/20\n",
            "140/140 [==============================] - 7s 48ms/step - loss: 0.2073 - accuracy: 0.9157 - val_loss: 0.2703 - val_accuracy: 0.8867\n",
            "Epoch 19/20\n",
            "140/140 [==============================] - 7s 49ms/step - loss: 0.2006 - accuracy: 0.9271 - val_loss: 0.2697 - val_accuracy: 0.8833\n",
            "Epoch 20/20\n",
            "140/140 [==============================] - 7s 49ms/step - loss: 0.1947 - accuracy: 0.9243 - val_loss: 0.2837 - val_accuracy: 0.8683\n"
          ]
        },
        {
          "data": {
            "image/png": "[encoded data removed]",
            "text/plain": [
              "<Figure size 432x288 with 1 Axes>"
            ]
          },
          "metadata": {
            "needs_background": "light"
          },
          "output_type": "display_data"
        },
        {
          "data": {
            "text/plain": [
              "<keras.engine.sequential.Sequential at 0x7fa54e6f32d0>"
            ]
          },
          "execution_count": 22,
          "metadata": {},
          "output_type": "execute_result"
        }
      ],
      "source": [
        "# Run train_plot_mobilenet\n",
        "train_plot_mobilenet(model_mobilenet)"
      ]
    },
    {
      "cell_type": "code",
      "execution_count": 23,
      "metadata": {
        "colab": {
          "base_uri": "https://localhost:8080/"
        },
        "id": "cHoXZ-JOPHcp",
        "outputId": "19eda0c3-8f81-4014-b786-134ddc404a25"
      },
      "outputs": [
        {
          "name": "stdout",
          "output_type": "stream",
          "text": [
            "Test loss: 0.31\n",
            "Test accuracy: 0.85\n",
            "Valid loss: 0.28\n",
            "Valid accuracy: 0.87\n"
          ]
        }
      ],
      "source": [
        "# Evaluate the mobilenet model \n",
        "test_score = model_mobilenet.evaluate(x_test,y_test,verbose=0)\n",
        "valid_score = model_mobilenet.evaluate(x_valid,y_valid,verbose=0)\n",
        "\n",
        "print('Test loss:', round(test_score[0],2))\n",
        "print('Test accuracy:', round(test_score[1],2))\n",
        "print('Valid loss:', round(valid_score[0],2))\n",
        "print('Valid accuracy:', round(valid_score[1],2))"
      ]
    },
    {
      "cell_type": "markdown",
      "metadata": {
        "id": "VcjAEexeq4rV"
      },
      "source": [
        "The CNN with three convolutional layers and the CNN with four layers showed very similar score with an accuracy of 0.92 and 0.91 and a loss of 0.22 and 0.23, respectively. The pre-trained model, Mobilenet, with a convolutional layer, showed a lower accuracy score of 0.87 and a higher loss of 0.28, performing worse in the prediction than the previous models. "
      ]
    },
    {
      "cell_type": "markdown",
      "metadata": {
        "id": "o40tobY16_PZ"
      },
      "source": [
        "6. Compare the models you have created so far (both RNNs and CNNs) and make a\n",
        "selection (making sure to justify this). Train that model on a combined training and\n",
        "validation set and evaluate it on your test set."
      ]
    },
    {
      "cell_type": "code",
      "execution_count": 24,
      "metadata": {
        "id": "3pJfmBqV6_PZ"
      },
      "outputs": [],
      "source": [
        "# 85% training set and 15 % test set\n",
        "# splitting training and test sets\n",
        "X_train, X_test, y_train, y_test = train_test_split(series, y_dum, train_size=0.85, random_state = 657)"
      ]
    },
    {
      "cell_type": "code",
      "execution_count": 25,
      "metadata": {
        "colab": {
          "base_uri": "https://localhost:8080/"
        },
        "id": "h4TJdhENvKss",
        "outputId": "b485b6cb-3276-4035-dee9-237a0535e665"
      },
      "outputs": [
        {
          "name": "stdout",
          "output_type": "stream",
          "text": [
            "x_train shape: (3400, 100, 100, 1)\n",
            "y_train: (3400, 4)\n"
          ]
        }
      ],
      "source": [
        "## convert time-series to grey-scale image\n",
        "num_classes = 4\n",
        "img_rows, img_cols, img_channels = 100, 100, 1 # input image dimensions\n",
        "\n",
        "# Load and convert data\n",
        "x_train = X_train.astype('float32')\n",
        "x_test = X_test.astype('float32')\n",
        "\n",
        "# Depending on the implementation, the underlying libraries might want the image \n",
        "# dimensions in different orders, check for it and reshape\n",
        "if K.image_data_format() == 'channels_first':\n",
        "    x_train = x_train.reshape(x_train.shape[0], img_channels, img_rows, img_cols)\n",
        "    x_test = x_test.reshape(x_test.shape[0], img_channels, img_rows, img_cols)\n",
        "    input_shape = (img_channels, img_rows, img_cols)\n",
        "else:\n",
        "    x_train = x_train.reshape(x_train.shape[0], img_rows, img_cols, img_channels)\n",
        "    x_test = x_test.reshape(x_test.shape[0], img_rows, img_cols, img_channels)\n",
        "    input_shape = (img_rows, img_cols, img_channels)\n",
        "\n",
        "print('x_train shape:', x_train.shape)\n",
        "print('y_train:', y_train.shape)"
      ]
    },
    {
      "cell_type": "code",
      "execution_count": 26,
      "metadata": {
        "colab": {
          "base_uri": "https://localhost:8080/"
        },
        "id": "t1a5GOQJvRxX",
        "outputId": "6af78249-44b0-45fc-f7ad-6f24409648e2"
      },
      "outputs": [
        {
          "name": "stdout",
          "output_type": "stream",
          "text": [
            "Model: \"sequential_4\"\n",
            "_________________________________________________________________\n",
            " Layer (type)                Output Shape              Param #   \n",
            "=================================================================\n",
            " conv2d_8 (Conv2D)           (None, 50, 50, 32)        320       \n",
            "                                                                 \n",
            " conv2d_9 (Conv2D)           (None, 25, 25, 32)        9248      \n",
            "                                                                 \n",
            " dropout_2 (Dropout)         (None, 25, 25, 32)        0         \n",
            "                                                                 \n",
            " conv2d_10 (Conv2D)          (None, 13, 13, 16)        4624      \n",
            "                                                                 \n",
            " max_pooling2d_2 (MaxPooling  (None, 4, 4, 16)         0         \n",
            " 2D)                                                             \n",
            "                                                                 \n",
            " flatten_2 (Flatten)         (None, 256)               0         \n",
            "                                                                 \n",
            " dense_5 (Dense)             (None, 4)                 1028      \n",
            "                                                                 \n",
            "=================================================================\n",
            "Total params: 15,220\n",
            "Trainable params: 15,220\n",
            "Non-trainable params: 0\n",
            "_________________________________________________________________\n"
          ]
        }
      ],
      "source": [
        "### CNN model according to Figure 12 of the literature ###\n",
        "best_model = Sequential([\n",
        "    Conv2D(32, kernel_size=(3, 3),strides=(2,2),padding='same',input_shape=input_shape),\n",
        "    Conv2D(32, kernel_size=(3, 3),strides=(2,2),padding='same'),\n",
        "    Dropout(0.2),\n",
        "    Conv2D(16, kernel_size=(3, 3),strides=(2,2),padding='same',activation='relu'),\n",
        "    MaxPooling2D(pool_size=(3, 3)),\n",
        "    Flatten(),\n",
        "    Dense(num_classes, activation='softmax')\n",
        "    ])\n",
        "best_model.summary()"
      ]
    },
    {
      "cell_type": "code",
      "execution_count": 27,
      "metadata": {
        "id": "y8j0zfpwvZaK"
      },
      "outputs": [],
      "source": [
        "# CNN model (according to Figure 12) train_plot\n",
        "def train_plot_best(best_model , learning_rate = 0.001, epochs = 20):\n",
        "    np.random.seed(312)\n",
        "    tf.random.set_seed(312)\n",
        "\n",
        "    best_model.compile(loss='categorical_crossentropy',\n",
        "              optimizer=tf.keras.optimizers.Adam(learning_rate=learning_rate),\n",
        "              metrics=['accuracy'])\n",
        "    log = best_model.fit(x_train, y_train, epochs=epochs,\n",
        "                    batch_size=32)\n",
        "    \n",
        "    plt.plot(log.history['loss'],label = \"training loss\",color='darkgreen')\n",
        "    plt.legend()\n",
        "    ax = plt.gca()\n",
        "    ax.set_ylim([0, log.history['loss'][2]])\n",
        "    plt.show()\n",
        "    \n",
        "    return best_model"
      ]
    },
    {
      "cell_type": "code",
      "execution_count": 28,
      "metadata": {
        "colab": {
          "base_uri": "https://localhost:8080/",
          "height": 995
        },
        "id": "4Z613qrSv7IE",
        "outputId": "7adec12c-4289-4e48-9e60-b52de207b5e0"
      },
      "outputs": [
        {
          "name": "stdout",
          "output_type": "stream",
          "text": [
            "Epoch 1/20\n",
            "107/107 [==============================] - 2s 12ms/step - loss: 5.9651 - accuracy: 0.3676\n",
            "Epoch 2/20\n",
            "107/107 [==============================] - 1s 11ms/step - loss: 1.2247 - accuracy: 0.6612\n",
            "Epoch 3/20\n",
            "107/107 [==============================] - 1s 11ms/step - loss: 0.7483 - accuracy: 0.7744\n",
            "Epoch 4/20\n",
            "107/107 [==============================] - 1s 11ms/step - loss: 0.6095 - accuracy: 0.8174\n",
            "Epoch 5/20\n",
            "107/107 [==============================] - 1s 11ms/step - loss: 0.5424 - accuracy: 0.8365\n",
            "Epoch 6/20\n",
            "107/107 [==============================] - 1s 11ms/step - loss: 0.4481 - accuracy: 0.8471\n",
            "Epoch 7/20\n",
            "107/107 [==============================] - 1s 11ms/step - loss: 0.4320 - accuracy: 0.8459\n",
            "Epoch 8/20\n",
            "107/107 [==============================] - 1s 11ms/step - loss: 0.3707 - accuracy: 0.8635\n",
            "Epoch 9/20\n",
            "107/107 [==============================] - 1s 11ms/step - loss: 0.3634 - accuracy: 0.8550\n",
            "Epoch 10/20\n",
            "107/107 [==============================] - 1s 11ms/step - loss: 0.3553 - accuracy: 0.8615\n",
            "Epoch 11/20\n",
            "107/107 [==============================] - 1s 11ms/step - loss: 0.3212 - accuracy: 0.8665\n",
            "Epoch 12/20\n",
            "107/107 [==============================] - 1s 11ms/step - loss: 0.3268 - accuracy: 0.8641\n",
            "Epoch 13/20\n",
            "107/107 [==============================] - 1s 11ms/step - loss: 0.2996 - accuracy: 0.8782\n",
            "Epoch 14/20\n",
            "107/107 [==============================] - 1s 11ms/step - loss: 0.2779 - accuracy: 0.8859\n",
            "Epoch 15/20\n",
            "107/107 [==============================] - 1s 11ms/step - loss: 0.2811 - accuracy: 0.8776\n",
            "Epoch 16/20\n",
            "107/107 [==============================] - 1s 11ms/step - loss: 0.2570 - accuracy: 0.8853\n",
            "Epoch 17/20\n",
            "107/107 [==============================] - 1s 11ms/step - loss: 0.2562 - accuracy: 0.8885\n",
            "Epoch 18/20\n",
            "107/107 [==============================] - 1s 11ms/step - loss: 0.2739 - accuracy: 0.8812\n",
            "Epoch 19/20\n",
            "107/107 [==============================] - 1s 11ms/step - loss: 0.2587 - accuracy: 0.8862\n",
            "Epoch 20/20\n",
            "107/107 [==============================] - 1s 11ms/step - loss: 0.2685 - accuracy: 0.8865\n"
          ]
        },
        {
          "data": {
            "image/png": "[encoded data removed]",
            "text/plain": [
              "<Figure size 432x288 with 1 Axes>"
            ]
          },
          "metadata": {
            "needs_background": "light"
          },
          "output_type": "display_data"
        },
        {
          "data": {
            "text/plain": [
              "<keras.engine.sequential.Sequential at 0x7fa54fccd950>"
            ]
          },
          "execution_count": 28,
          "metadata": {},
          "output_type": "execute_result"
        }
      ],
      "source": [
        "# Run best model \n",
        "train_plot_best(best_model)"
      ]
    },
    {
      "cell_type": "code",
      "execution_count": 29,
      "metadata": {
        "colab": {
          "base_uri": "https://localhost:8080/"
        },
        "id": "M2bIl2CvwAav",
        "outputId": "dc0837e6-7722-4868-c0ac-91d063c609f1"
      },
      "outputs": [
        {
          "name": "stdout",
          "output_type": "stream",
          "text": [
            "Test loss: 0.23\n",
            "Test accuracy: 0.91\n"
          ]
        }
      ],
      "source": [
        "# Evaluate best model\n",
        "test_score = best_model.evaluate(x_test,y_test,verbose=0)\n",
        "\n",
        "print('Test loss:', round(test_score[0],2))\n",
        "print('Test accuracy:', round(test_score[1],2))"
      ]
    },
    {
      "cell_type": "code",
      "execution_count": 35,
      "metadata": {
        "id": "rEeA77sSWQMy"
      },
      "outputs": [],
      "source": [
        "#save it as h5 file\n",
        "best_model.save(\"best_model.h5\")"
      ]
    },
    {
      "cell_type": "markdown",
      "metadata": {
        "id": "EjJ3O6C4cTDF"
      },
      "source": [
        "Overall, CNN models have demonstrated better performance than RNN models in predicting the operating mode of a wind turbine. The loss for CNN models is generally lower than for RNN models, including GRU and LTSM models. Similarly, the accuracy of 1D CNN with a GRU layer and the other CNN models are also generally higher than the accuracy of the GRU and LTSM models. \n",
        "\n",
        "Among the CNN models, both models with three 2D convolutional and four convolutional layers showed the best accuracies. Nevertheless, the final best performing model chosen was the 2D CNN with three convolutional layers due to its higher accuracy and lower loss. The model was trained on the combined validation sets, giving an test accuracy score of 0.91 and a loss of 0.23. "
      ]
    }
  ],
  "metadata": {
    "accelerator": "GPU",
    "colab": {
      "collapsed_sections": [],
      "name": "NgYiLingSMM768.ipynb",
      "provenance": []
    },
    "interpreter": {
      "hash": "238a2a58626812068f398d80031833e5fd9ecbf6a7209c7dfa89efe97a52bbfb"
    },
    "kernelspec": {
      "display_name": "Python 3.7.11 ('smm768')",
      "language": "python",
      "name": "python3"
    },
    "language_info": {
      "codemirror_mode": {
        "name": "ipython",
        "version": 3
      },
      "file_extension": ".py",
      "mimetype": "text/x-python",
      "name": "python",
      "nbconvert_exporter": "python",
      "pygments_lexer": "ipython3",
      "version": "3.7.11"
    },
    "orig_nbformat": 4
  },
  "nbformat": 4,
  "nbformat_minor": 0
}
